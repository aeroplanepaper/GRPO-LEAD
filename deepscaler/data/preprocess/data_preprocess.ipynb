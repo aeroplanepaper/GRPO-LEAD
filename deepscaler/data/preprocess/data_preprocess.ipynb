{
 "cells": [
  {
   "cell_type": "code",
   "execution_count": 1,
   "metadata": {},
   "outputs": [
    {
     "data": {
      "text/plain": [
       "41912"
      ]
     },
     "execution_count": 1,
     "metadata": {},
     "output_type": "execute_result"
    }
   ],
   "source": [
    "import json\n",
    "\n",
    "# Our Deepscaler dataset combines all existing datasets into one.\n",
    "# Leaving out olympiad.json as the dataset is too large, too long to train.\n",
    "datasets = [\"amc\", \"omni_math\", \"aime\", \"still\", \"math\"]\n",
    "# datasets = [\"final_problems_nonzero\"]\n",
    "data = []\n",
    "for dataset in datasets:\n",
    "    with open(f'../train/{dataset}.json', 'r') as f:\n",
    "        data.extend(json.load(f))\n",
    "\n",
    "len(data)"
   ]
  },
  {
   "cell_type": "code",
   "execution_count": null,
   "metadata": {},
   "outputs": [
    {
     "data": {
      "text/plain": [
       "7721"
      ]
     },
     "execution_count": 4,
     "metadata": {},
     "output_type": "execute_result"
    }
   ],
   "source": [
    "from deepscaler.rewards.math_utils.utils import _sympy_parse, _normalize, should_allow_eval\n",
    "\n",
    "# Filter for datapoints that can't be parsed by sympy.\n",
    "filtered_data = []\n",
    "count = 0\n",
    "difficulty_data = []\n",
    "for entry in data:\n",
    "    answer = entry['answer']\n",
    "    \n",
    "    difficulty = entry.get('difficulty', 0)\n",
    "\n",
    "    if not (3.5<=difficulty):\n",
    "        continue\n",
    "\n",
    "    try:\n",
    "        if should_allow_eval(_normalize(answer)):\n",
    "            filtered_data.append(entry)\n",
    "            # print(1)?\n",
    "            continue\n",
    "        else:\n",
    "            # print(answer)\n",
    "            count += 1\n",
    "    except Exception as e:\n",
    "        # print(answer)\n",
    "        count += 1\n",
    "\n",
    "len(filtered_data)"
   ]
  },
  {
   "cell_type": "code",
   "execution_count": null,
   "metadata": {},
   "outputs": [],
   "source": [
    "with open('./stage1_data.json', 'w') as f:\n",
    "    json.dump(filtered_data, f)"
   ]
  }
 ],
 "metadata": {
  "kernelspec": {
   "display_name": "Python 3",
   "language": "python",
   "name": "python3"
  },
  "language_info": {
   "codemirror_mode": {
    "name": "ipython",
    "version": 3
   },
   "file_extension": ".py",
   "mimetype": "text/x-python",
   "name": "python",
   "nbconvert_exporter": "python",
   "pygments_lexer": "ipython3",
   "version": "3.10.16"
  }
 },
 "nbformat": 4,
 "nbformat_minor": 2
}
